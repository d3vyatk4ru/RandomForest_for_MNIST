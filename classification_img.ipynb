{
 "cells": [
  {
   "cell_type": "code",
   "execution_count": 4,
   "metadata": {},
   "outputs": [],
   "source": [
    "import numpy as np\n",
    "# import mnist dataset \n",
    "from keras.datasets import mnist\n",
    "# import graph tool\n",
    "import matplotlib.pyplot as plt "
   ]
  },
  {
   "cell_type": "code",
   "execution_count": 5,
   "metadata": {},
   "outputs": [],
   "source": [
    "def paint(X, nrows=2, ncols=5):\n",
    "    # create area 2x5 for graph\n",
    "    fig, ax = plt.subplots(nrows=2, ncols=5, sharex=True, sharey=True, figsize=(12, 5))\n",
    "    ax = ax.flatten()\n",
    "\n",
    "    for i in range(10):\n",
    "        ax[i].imshow(X[i].reshape(28, 28))\n",
    "\n",
    "    plt.show()"
   ]
  },
  {
   "cell_type": "markdown",
   "metadata": {},
   "source": [
    "[ENG] Case 1:\n",
    "It's easier way for load dataset, call it 1 case. We load data from keras library.\n",
    "\n",
    "[RUS] Случай 1:\n",
    "\n",
    "Это более простой путь для загрузки данных(рукописного текста), назовем его случай 1. Мы загружаем данные из библиотеки keras."
   ]
  },
  {
   "cell_type": "code",
   "execution_count": 8,
   "metadata": {},
   "outputs": [
    {
     "data": {
      "image/png": "[encoded data removed]",
      "text/plain": [
       "<Figure size 864x360 with 10 Axes>"
      ]
     },
     "metadata": {
      "needs_background": "light"
     },
     "output_type": "display_data"
    }
   ],
   "source": [
    "(X_train_1, y_train_1), (X_test_1, y_test_1) = mnist.load_data()\n",
    "\n",
    "# change dim of array (60000, 28, 28) ---> (60000, 784)\n",
    "X_train = X_train_1[:, :, :].reshape(60000, 784)\n",
    "y_train = np.asarray(y_train_1)\n",
    "\n",
    "paint(X_train)"
   ]
  },
  {
   "cell_type": "markdown",
   "metadata": {},
   "source": [
    "[ENG] Case 2:\n",
    "\n",
    "Here will be to use the hard way. Download data to localMachine from http://yann.lecun.com/exdb/mnist/. \n",
    "\n",
    "In the next step we going to create the function, which unpack data and will write to variable.\n",
    "\n",
    "[RUS]\n",
    "Случай 2:\n",
    "\n",
    "Здесь будет сложный путь. Загрузим данные на локальный компьютер с сайта http://yann.lecun.com/exdb/mnist/.\n",
    "\n",
    "На следующем шаге мы создаем функцию, которая распаковывает данные и загружает в переменную."
   ]
  },
  {
   "cell_type": "code",
   "execution_count": 9,
   "metadata": {},
   "outputs": [],
   "source": [
    "import os\n",
    "import struct\n",
    "\n",
    "# define function for load data\n",
    "def load_data_mnist(path='None', name_img='None', name_lbl='None', key='None'):\n",
    "    \"\"\" path --- the path to the file [string];\n",
    "    \n",
    "        name_img --- name of file, where keep the image [string] ;\n",
    "        \n",
    "        name_lbl --- name of file, where keep tha label [string];\n",
    "        \n",
    "        key --- type of file. While only 'nmist'.\n",
    "    \"\"\"\n",
    "    cases = ('mnist')\n",
    "    \n",
    "    if key in cases:\n",
    "        # create the all path (concatenate 2 string: path and name of file)\n",
    "        path_img = os.path.join(path, name_img)\n",
    "        path_lbl = os.path.join(path, name_lbl)\n",
    "        \n",
    "        # 'r+b' --- read from binary file\n",
    "        with open(path_lbl, 'r+b') as lbl_path:\n",
    "            # m --- description of file format\n",
    "            # n --- number of elements\n",
    "            m, n = struct.unpack('>II', lbl_path.read(8))\n",
    "            # '>II' :\n",
    "            #        > --- обратный порядок байтов, определяет порядок, в котором хранится после довательность байтов;\n",
    "            #        I --- беззнаковое целое число.\n",
    "            \n",
    "            lbl = np.fromfile(lbl_path, dtype=np.uint8)\n",
    "            \n",
    "        with open(path_img, 'r+b') as img_path:\n",
    "            magic, num, rows, cols = struct.unpack( \">IIII\", img_path.read(16))\n",
    "            \n",
    "            img = np.fromfile(img_path, dtype=np.uint8).reshape(len(lbl), 784)\n",
    "            \n",
    "        return img, lbl\n",
    "    else:\n",
    "        print('Ошибка ключа!')\n",
    "        return None"
   ]
  },
  {
   "cell_type": "markdown",
   "metadata": {},
   "source": [
    "[ENG]\n",
    "\n",
    "path -- path to ur file, img -- the name of ur file with test image, lbl -- the name of ur file with label to the test file. Reading the dataset and labels from file.\n",
    "\n",
    "[RUS]\n",
    "\n",
    "path -- путь к Вашему файлу, img -- имя Вашего файла с тестовыми данными(рукописные цифры), lbl -- имя Вашего файла с метками к тестовым данным. Производим чтение данных из файла."
   ]
  },
  {
   "cell_type": "code",
   "execution_count": 10,
   "metadata": {},
   "outputs": [],
   "source": [
    "path = 'C:\\\\Users\\\\Danya\\\\Desktop\\\\img_data'\n",
    "img = 'train-images.idx3-ubyte'\n",
    "lbl = 'train-labels.idx1-ubyte'\n",
    "\n",
    "# read data from *.idx1-ubyte file\n",
    "X_train_2, y_train_2 = load_data_mnist(path=path, name_img=img, name_lbl=lbl, key='mnist')"
   ]
  },
  {
   "cell_type": "markdown",
   "metadata": {},
   "source": [
    "[ENG]\n",
    "\n",
    "Importing the SVM classificator and StandardScaler for transform dataset to normal(gauss) distribution. Training the model. Outputing the score.\n",
    "\n",
    "[RUS]\n",
    "\n",
    "Импортируем SVM классификатор и StandardScaler для преобразования данных к нормальному распределению. Тренируем модель. Выводим скор."
   ]
  },
  {
   "cell_type": "code",
   "execution_count": null,
   "metadata": {},
   "outputs": [],
   "source": [
    "from sklearn.svm import SVC\n",
    "from sklearn.preprocessing import StandardScaler\n",
    "\n",
    "sc = StandardScaler()\n",
    "\n",
    "X_train_std = sc.fit_transform(X_train_2)\n",
    "\n",
    "SVM = SVC(kernel = \"poly\", degree = 2)\n",
    "SVM.fit(X_train_std, y_train_2)"
   ]
  },
  {
   "cell_type": "code",
   "execution_count": null,
   "metadata": {},
   "outputs": [],
   "source": [
    "SVM.score(X_train_std, y_train_2)"
   ]
  },
  {
   "cell_type": "code",
   "execution_count": 11,
   "metadata": {},
   "outputs": [
    {
     "data": {
      "text/plain": [
       "RandomForestClassifier(bootstrap=True, ccp_alpha=0.0, class_weight=None,\n",
       "                       criterion='gini', max_depth=None, max_features='auto',\n",
       "                       max_leaf_nodes=None, max_samples=None,\n",
       "                       min_impurity_decrease=0.0, min_impurity_split=None,\n",
       "                       min_samples_leaf=1, min_samples_split=2,\n",
       "                       min_weight_fraction_leaf=0.0, n_estimators=100,\n",
       "                       n_jobs=None, oob_score=False, random_state=None,\n",
       "                       verbose=0, warm_start=False)"
      ]
     },
     "execution_count": 11,
     "metadata": {},
     "output_type": "execute_result"
    }
   ],
   "source": [
    "from sklearn.ensemble import RandomForestClassifier\n",
    "from sklearn.preprocessing import StandardScaler\n",
    "\n",
    "sc = StandardScaler()\n",
    "X_train_std = sc.fit_transform(X_train_2)\n",
    "\n",
    "sol_for = RandomForestClassifier(n_estimators=100)\n",
    "\n",
    "sol_for.fit(X_train_std, y_train_2)"
   ]
  },
  {
   "cell_type": "code",
   "execution_count": 12,
   "metadata": {},
   "outputs": [
    {
     "data": {
      "text/plain": [
       "1.0"
      ]
     },
     "execution_count": 12,
     "metadata": {},
     "output_type": "execute_result"
    }
   ],
   "source": [
    "# calculate percent number of true answer\n",
    "sol_for.score(X_train_std, y_train_2)"
   ]
  },
  {
   "cell_type": "code",
   "execution_count": 13,
   "metadata": {},
   "outputs": [],
   "source": [
    "path = 'C:\\\\Users\\\\Danya\\\\Desktop\\\\img_data'\n",
    "img_test = 'test-images.idx3-ubyte'\n",
    "lbl_test = 'test-labels.idx1-ubyte'\n",
    "\n",
    "# read data from *.idx1-ubyte file\n",
    "X_test_2, y_test_2 = load_data_mnist(path=path, name_img=img_test, name_lbl=lbl_test, key='mnist')"
   ]
  },
  {
   "cell_type": "code",
   "execution_count": 14,
   "metadata": {},
   "outputs": [
    {
     "data": {
      "text/plain": [
       "0.9586"
      ]
     },
     "execution_count": 14,
     "metadata": {},
     "output_type": "execute_result"
    }
   ],
   "source": [
    "X_test_std = sc.fit_transform(X_test_2)\n",
    "sol_for.score(X_test_std, y_test_2)"
   ]
  },
  {
   "cell_type": "code",
   "execution_count": 15,
   "metadata": {},
   "outputs": [],
   "source": [
    "def add_noise(X, n_px=1, key='mnist'):\n",
    "    \n",
    "    \"\"\" X --- the features matrix;\n",
    "    \n",
    "        n_px --- number of random pixels, which will be to adding ;\n",
    "        \n",
    "        name_lbl --- name of file, where keep tha label [string];\n",
    "        \n",
    "        key --- type of file. While only 'nmist'.\n",
    "    \"\"\"\n",
    "    cases = ('mnist')\n",
    "    \n",
    "    size = 784\n",
    "    \n",
    "    if key in cases:\n",
    "        \n",
    "        X_noise = X.copy()\n",
    "        \n",
    "        for i in range(X.shape[0]):\n",
    "            for j in range(n_px):\n",
    "                rnd_px = np.random.randint(1, size)\n",
    "                X_noise[i][rnd_px] = np.random.randint(1, 256)\n",
    "        return X_noise\n",
    "    else:\n",
    "        print('Ошибка ключа')\n",
    "        return None"
   ]
  },
  {
   "cell_type": "markdown",
   "metadata": {},
   "source": [
    "[ENG]\n",
    "\n",
    "Test the accuracy of prediction in depend on amount of trees in random forest.\n",
    "\n",
    "[RUS]\n",
    "\n",
    "Тестируем зависимость точности прогнозирования от количества деревьев в случайном лесу."
   ]
  },
  {
   "cell_type": "code",
   "execution_count": 15,
   "metadata": {
    "scrolled": true
   },
   "outputs": [
    {
     "data": {
      "text/plain": [
       "[10, 20, 30, 40, 50, 60, 70, 80, 90, 100]"
      ]
     },
     "execution_count": 15,
     "metadata": {},
     "output_type": "execute_result"
    }
   ],
   "source": [
    "estimators = [i*10 for i in range(1, 11)]"
   ]
  },
  {
   "cell_type": "code",
   "execution_count": 38,
   "metadata": {},
   "outputs": [
    {
     "name": "stdout",
     "output_type": "stream",
     "text": [
      "0\n",
      "1\n",
      "2\n",
      "3\n",
      "4\n",
      "5\n",
      "6\n",
      "7\n",
      "8\n",
      "9\n"
     ]
    }
   ],
   "source": [
    "pred = np.zeros(10)\n",
    "\n",
    "for num in estimators:\n",
    "    \n",
    "    sol_for = RandomForestClassifier(n_estimators=num)\n",
    "    sol_for.fit(X_train_std, y_train_2)\n",
    "    \n",
    "    print(int(num / 10) - 1, end=' ')\n",
    "    pred[int(num / 10) - 1] = sol_for.score(X_test_std, y_test_2)"
   ]
  },
  {
   "cell_type": "code",
   "execution_count": 45,
   "metadata": {},
   "outputs": [
    {
     "data": {
      "image/png": "[encoded data removed]",
      "text/plain": [
       "<Figure size 864x432 with 1 Axes>"
      ]
     },
     "metadata": {
      "needs_background": "light"
     },
     "output_type": "display_data"
    }
   ],
   "source": [
    "%matplotlib inline\n",
    "fig, ax = plt.subplots(1, 1, figsize=(12, 6))\n",
    "\n",
    "ax.plot(estimators, pred, color='orange')\n",
    "ax.scatter(estimators, pred)\n",
    "\n",
    "plt.title('Test dataset')\n",
    "plt.grid(color='grey')\n",
    "plt.xlabel('Number of trees in RandomForest')\n",
    "plt.ylabel('Prediction of ensemble')\n",
    "\n",
    "plt.show()"
   ]
  },
  {
   "cell_type": "markdown",
   "metadata": {},
   "source": [
    "[ENG]\n",
    "\n",
    "Adding the noise in dataset and check accuracy of prediction.\n",
    "\n",
    "[RUS]\n",
    "\n",
    "Добавляем шум в данные и смотрим на качество прогноза."
   ]
  },
  {
   "cell_type": "code",
   "execution_count": 24,
   "metadata": {},
   "outputs": [
    {
     "data": {
      "text/plain": [
       "[10, 20, 30, 40, 50, 60, 70, 80, 90, 100]"
      ]
     },
     "execution_count": 24,
     "metadata": {},
     "output_type": "execute_result"
    }
   ],
   "source": [
    "pixels = [10*i for i in np.arange(1, 11)]\n",
    "pixels"
   ]
  },
  {
   "cell_type": "code",
   "execution_count": null,
   "metadata": {},
   "outputs": [
    {
     "name": "stdout",
     "output_type": "stream",
     "text": [
      "0 "
     ]
    }
   ],
   "source": [
    "# Создаем модель с с нормальными данными. Тренируем на них же. Но в процессе тренировки добавляем добавляем данные с шумом.\n",
    "\n",
    "pred = np.zeros(10)\n",
    "\n",
    "# creating the model with 3 depth\n",
    "rand_forest = RandomForestClassifier(n_estimators=90, max_depth=4)\n",
    "# n_estimators --- number of trees in randomForest\n",
    "\n",
    "rand_forest.fit(X_train_std, y_train_2)\n",
    "for n_px in pixels:\n",
    "    X_noise = add_noise(X_test_std, n_px=n_px)\n",
    "    \n",
    "    print(int(n_px / 10) - 1, end=' ')\n",
    "    pred[int(n_px / 10) - 1] = rand_forest.score(X_noise, y_test_2)"
   ]
  },
  {
   "cell_type": "code",
   "execution_count": null,
   "metadata": {},
   "outputs": [],
   "source": [
    "%matplotlib inline\n",
    "fig, ax = plt.subplots(1, 1, figsize=(12, 6))\n",
    "\n",
    "ax.plot(pixels, pred, color='red')\n",
    "ax.scatter(pixels, pred, color='black')\n",
    "\n",
    "plt.title('Test dataset [model trained with data without noise only one time]')\n",
    "plt.grid(color='grey')\n",
    "plt.xlabel('Number of noise pixels')\n",
    "plt.ylabel('Prediction of ensemble with depth 3')\n",
    "\n",
    "plt.show()"
   ]
  },
  {
   "cell_type": "code",
   "execution_count": null,
   "metadata": {},
   "outputs": [],
   "source": []
  }
 ],
 "metadata": {
  "kernelspec": {
   "display_name": "Python 3",
   "language": "python",
   "name": "python3"
  },
  "language_info": {
   "codemirror_mode": {
    "name": "ipython",
    "version": 3
   },
   "file_extension": ".py",
   "mimetype": "text/x-python",
   "name": "python",
   "nbconvert_exporter": "python",
   "pygments_lexer": "ipython3",
   "version": "3.7.6"
  }
 },
 "nbformat": 4,
 "nbformat_minor": 4
}
